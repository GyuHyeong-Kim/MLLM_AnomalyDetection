{
 "cells": [
  {
   "cell_type": "code",
   "execution_count": 1,
   "id": "bacf1a0e-5125-49c1-b5ad-677b35384dae",
   "metadata": {},
   "outputs": [],
   "source": [
    "import torch, cv2\n",
    "from pathlib import Path\n",
    "from PIL import Image\n",
    "from transformers import SiglipVisionModel, SiglipImageProcessor\n",
    "\n",
    "ROOT_IMG  = Path(\"/home/s2behappy4/data/gyuhyeong/dataset/MMAD/MVTec-AD/hazelnut/test\")\n",
    "ROOT_SAVE = Path(\"/home/s2behappy4/data/gyuhyeong/code/siglip_global/hazelnut\")\n",
    "TYPES     = [\"crack\", \"cut\", \"hole\", \"print\"]\n",
    "\n",
    "DEV, MODEL_ID = (\"cuda\" if torch.cuda.is_available() else \"cpu\",\n",
    "                 \"google/siglip-so400m-patch14-384\")\n",
    "\n",
    "proc    = SiglipImageProcessor.from_pretrained(MODEL_ID)\n",
    "siglip  = SiglipVisionModel.from_pretrained(MODEL_ID).to(DEV).eval()"
   ]
  },
  {
   "cell_type": "code",
   "execution_count": null,
   "id": "ca048bd6-b62e-4f3c-b12f-73c47759dbc5",
   "metadata": {
    "scrolled": true
   },
   "outputs": [],
   "source": [
    "for defect in TYPES:\n",
    "    img_dir  = ROOT_IMG  / defect\n",
    "    save_dir = ROOT_SAVE / defect\n",
    "    save_dir.mkdir(parents=True, exist_ok=True)\n",
    "\n",
    "    for img_path in img_dir.glob(\"*.png\"):\n",
    "        # 1) Image → SigLIP\n",
    "        pix = proc(images=Image.open(img_path).convert(\"RGB\"),\n",
    "                   return_tensors=\"pt\")[\"pixel_values\"].to(DEV)\n",
    "\n",
    "        # 2) MAP-head (global token)\n",
    "        with torch.no_grad():\n",
    "            g_tok = siglip(pixel_values=pix).pooler_output.squeeze(0).cpu()  \n",
    "\n",
    "        # 3) save\n",
    "        torch.save(\n",
    "            {\"img_name\": img_path.name, \"global_token\": g_tok},\n",
    "            save_dir / f\"{img_path.stem}_global_token.pt\"\n",
    "        )\n",
    "        print(f\"[{defect}] saved: {img_path.stem}\")"
   ]
  }
 ],
 "metadata": {
  "kernelspec": {
   "display_name": "Python 3 (ipykernel)",
   "language": "python",
   "name": "python3"
  },
  "language_info": {
   "codemirror_mode": {
    "name": "ipython",
    "version": 3
   },
   "file_extension": ".py",
   "mimetype": "text/x-python",
   "name": "python",
   "nbconvert_exporter": "python",
   "pygments_lexer": "ipython3",
   "version": "3.12.7"
  }
 },
 "nbformat": 4,
 "nbformat_minor": 5
}
