{
 "cells": [
  {
   "cell_type": "code",
   "execution_count": null,
   "id": "41bc42d4-d4ff-439e-82b3-6f59c8e9cc8d",
   "metadata": {},
   "outputs": [],
   "source": [
    "from pathlib import Path\n",
    "from PIL import Image\n",
    "import torch\n",
    "from transformers import SiglipVisionModel, SiglipImageProcessor\n",
    "\n",
    "overlay_dir = Path(\"/home/s2behappy4/data/gyuhyeong/code/overlays/hazelnut/crack\")\n",
    "token_dir   = Path(\"/home/s2behappy4/data/gyuhyeong/code/siglip/hazelnut/crack\")\n",
    "token_dir.mkdir(parents=True, exist_ok=True)\n",
    "\n",
    "overlay_paths = sorted([p for p in overlay_dir.glob(\"001_*_overlay.png\")])\n",
    "\n",
    "model_id = \"google/siglip-so400m-patch14-384\"\n",
    "device   = \"cuda\" if torch.cuda.is_available() else \"cpu\"\n",
    "proc     = SiglipImageProcessor.from_pretrained(model_id)\n",
    "vision   = SiglipVisionModel.from_pretrained(model_id).to(device).eval()\n",
    "\n",
    "token_bank = {}                                        \n",
    "for img_path in overlay_paths:\n",
    "    img   = Image.open(img_path).convert(\"RGB\")\n",
    "    batch = proc(images=img, return_tensors=\"pt\").to(device)\n",
    "\n",
    "    with torch.no_grad():\n",
    "        cls_vec = vision(**batch).pooler_output.squeeze(0).cpu()   \n",
    "\n",
    "    sample_id = img_path.stem.replace(\"_overlay\", \"\")              \n",
    "    token_bank[sample_id] = cls_vec\n",
    "\n",
    "save_path = token_dir / \"hazelnut_001_siglip_tokens.pt\"\n",
    "torch.save(token_bank, save_path)\n",
    "\n",
    "n_tokens   = len(token_bank)\n",
    "token_dim  = next(iter(token_bank.values())).shape                "
   ]
  },
  {
   "cell_type": "code",
   "execution_count": null,
   "id": "c1b5ab31-efa1-423b-8c45-bd2e996a9670",
   "metadata": {},
   "outputs": [],
   "source": [
    "from pathlib import Path\n",
    "import torch\n",
    "\n",
    "overlay_dir = Path(\"/home/s2behappy4/data/gyuhyeong/code/overlays/hazelnut/crack\")\n",
    "token_dir   = Path(\"/home/s2behappy4/data/gyuhyeong/code/siglip/hazelnut/crack\")\n",
    "\n",
    "token_path  = token_dir / \"hazelnut_001_siglip_tokens.pt\"        \n",
    "pairs_path  = token_dir / \"hazelnut_001_token_mask_pairs.pt\"\n",
    "\n",
    "token_bank = torch.load(token_path)      \n",
    "\n",
    "pairs = []                               \n",
    "missing = []\n",
    "\n",
    "for sample_id, cls_vec in token_bank.items():\n",
    "    mask_file = overlay_dir / f\"{sample_id}_mask.pt\"             \n",
    "    if not mask_file.exists():\n",
    "        missing.append(mask_file.name)\n",
    "        continue\n",
    "\n",
    "    mask_tensor = torch.load(mask_file).bool()                   \n",
    "    pairs.append({\n",
    "        \"mask_token\": cls_vec,        \n",
    "        \"mask\"      : mask_tensor     \n",
    "    })\n",
    "\n",
    "torch.save(pairs, pairs_path)"
   ]
  },
  {
   "cell_type": "markdown",
   "id": "7aaa34af-d27e-4e19-9abc-f03c454c73f7",
   "metadata": {},
   "source": [
    "# # Hazelnut(cut) Token save"
   ]
  },
  {
   "cell_type": "code",
   "execution_count": null,
   "id": "67f7ccc5-fcbd-4d54-9de9-86b2845e905c",
   "metadata": {},
   "outputs": [],
   "source": [
    "from pathlib import Path\n",
    "from PIL import Image\n",
    "import torch\n",
    "from transformers import SiglipVisionModel, SiglipImageProcessor\n",
    "\n",
    "img_dir  = Path(\"/home/s2behappy4/data/gyuhyeong/dataset/MMAD/MVTec-AD/\"\n",
    "                \"hazelnut/test/cut\")\n",
    "out_dir  = Path(\"/home/s2behappy4/data/gyuhyeong/code/siglip_token/hazelnut/cut/02\")\n",
    "out_dir.mkdir(parents=True, exist_ok=True)\n",
    "\n",
    "model_id = \"google/siglip-so400m-patch14-384\"\n",
    "device   = \"cuda\" if torch.cuda.is_available() else \"cpu\"\n",
    "proc     = SiglipImageProcessor.from_pretrained(model_id)\n",
    "vision   = SiglipVisionModel.from_pretrained(model_id).to(device).eval()\n",
    "\n",
    "for img_path in sorted(img_dir.glob(\"*.png\")):\n",
    "    key = img_path.stem            \n",
    "    img = Image.open(img_path).convert(\"RGB\")\n",
    "    batch = proc(images=img, return_tensors=\"pt\").to(device)\n",
    "\n",
    "    with torch.no_grad():\n",
    "        cls_vec = vision(**batch).pooler_output.squeeze(0).cpu()   \n",
    "\n",
    "    save_path = out_dir / f\"{key}_cls.pt\"\n",
    "    torch.save({\"cls_token\": cls_vec}, save_path)\n",
    "    print(f\"[✔] {key} 저장 → {save_path}\")"
   ]
  },
  {
   "cell_type": "markdown",
   "id": "a96bb10a-a149-46d2-a303-9539ed4c5756",
   "metadata": {},
   "source": [
    "# # Hazelnut(crack) Token save"
   ]
  },
  {
   "cell_type": "code",
   "execution_count": null,
   "id": "b22fafda-11b4-4122-8b6d-1548057d4c87",
   "metadata": {},
   "outputs": [],
   "source": [
    "from pathlib import Path\n",
    "from PIL import Image\n",
    "import torch\n",
    "from transformers import SiglipVisionModel, SiglipImageProcessor\n",
    "\n",
    "img_dir  = Path(\"/home/s2behappy4/data/gyuhyeong/dataset/MMAD/MVTec-AD/\"\n",
    "                \"hazelnut/test/crack\")\n",
    "out_dir  = Path(\"/home/s2behappy4/data/gyuhyeong/code/siglip_token/hazelnut/crack/02\")\n",
    "out_dir.mkdir(parents=True, exist_ok=True)\n",
    "\n",
    "model_id = \"google/siglip-so400m-patch14-384\"\n",
    "device   = \"cuda\" if torch.cuda.is_available() else \"cpu\"\n",
    "proc     = SiglipImageProcessor.from_pretrained(model_id)\n",
    "vision   = SiglipVisionModel.from_pretrained(model_id).to(device).eval()\n",
    "\n",
    "for img_path in sorted(img_dir.glob(\"*.png\")):\n",
    "    key = img_path.stem            \n",
    "    img = Image.open(img_path).convert(\"RGB\")\n",
    "    batch = proc(images=img, return_tensors=\"pt\").to(device)\n",
    "\n",
    "    with torch.no_grad():\n",
    "        cls_vec = vision(**batch).pooler_output.squeeze(0).cpu()   \n",
    "\n",
    "    save_path = out_dir / f\"{key}_cls.pt\"\n",
    "    torch.save({\"cls_token\": cls_vec}, save_path)\n",
    "    print(f\"[✔] {key} 저장 → {save_path}\")"
   ]
  }
 ],
 "metadata": {
  "kernelspec": {
   "display_name": "Python 3 (ipykernel)",
   "language": "python",
   "name": "python3"
  },
  "language_info": {
   "codemirror_mode": {
    "name": "ipython",
    "version": 3
   },
   "file_extension": ".py",
   "mimetype": "text/x-python",
   "name": "python",
   "nbconvert_exporter": "python",
   "pygments_lexer": "ipython3",
   "version": "3.12.7"
  }
 },
 "nbformat": 4,
 "nbformat_minor": 5
}
