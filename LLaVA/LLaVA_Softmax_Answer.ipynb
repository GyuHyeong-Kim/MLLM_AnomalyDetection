{
 "cells": [
  {
   "cell_type": "code",
   "execution_count": null,
   "id": "7fe1842d-ca24-47a5-9830-e04c1958b4f2",
   "metadata": {},
   "outputs": [],
   "source": [
    "proc  = AutoProcessor.from_pretrained(MODEL, trust_remote_code=True)\n",
    "llava = LlavaOnevisionForConditionalGeneration.from_pretrained(\n",
    "          MODEL, device_map=\"auto\", torch_dtype=DTYPE,\n",
    "          low_cpu_mem_usage=True, trust_remote_code=True).eval()\n",
    "tok_img = proc.tokenizer.additional_special_tokens[0]"
   ]
  },
  {
   "cell_type": "markdown",
   "id": "a3cf949f-49c5-4498-8d99-69898874d46d",
   "metadata": {
    "jp-MarkdownHeadingCollapsed": true
   },
   "source": [
    "# # 000.png"
   ]
  },
  {
   "cell_type": "code",
   "execution_count": 5,
   "id": "db1f61e2-d236-47dd-9067-979ffd30e907",
   "metadata": {},
   "outputs": [],
   "source": [
    "import torch, torch.nn.functional as F\n",
    "from pathlib import Path\n",
    "from transformers import AutoProcessor, LlavaOnevisionForConditionalGeneration\n",
    "\n",
    "MASK_PT = Path(\"/home/s2behappy4/data/gyuhyeong/code/siglip_token_demo/hazelnut/hole/000_siglip_tokens.pt\")\n",
    "GLOB_PT = Path(\"/home/s2behappy4/data/gyuhyeong/code/siglip_token_demo/hazelnut/hole/good/000_global_token.pt\")\n",
    "MODEL   = \"llava-hf/llava-onevision-qwen2-7b-ov-hf\"\n",
    "\n",
    "DEV, DTYPE = (\"cuda\" if torch.cuda.is_available() else \"cpu\"), torch.bfloat16"
   ]
  },
  {
   "cell_type": "code",
   "execution_count": 6,
   "id": "2d48f0f1-bab5-4cb8-bb3d-80bdc34bc247",
   "metadata": {},
   "outputs": [
    {
     "name": "stdout",
     "output_type": "stream",
     "text": [
      "Top-10 token probabilities\n",
      "Yes           0.443\n",
      "No            0.345\n",
      "I             0.082\n",
      "<|im_end|>    0.032\n",
      "There         0.027\n",
      "The           0.022\n",
      "              0.019\n",
      "It            0.012\n",
      "Let           0.010\n",
      "Can           0.009\n",
      "\n",
      "P(Yes) = 0.562   P(No) = 0.438\n",
      "\n",
      "=== LLaVA Answer ===\n",
      "Yes, there is an anomaly in the image.\n"
     ]
    }
   ],
   "source": [
    "d   = torch.load(MASK_PT, map_location=\"cpu\", weights_only=False)\n",
    "tok = d[\"mask_token\"]                                          \n",
    "if GLOB_PT.exists():\n",
    "    g = torch.load(GLOB_PT, map_location=\"cpu\", weights_only=False)[\"global_token\"]\n",
    "    tok = torch.cat([g.unsqueeze(0), tok], 0)                 \n",
    "\n",
    "tok = F.layer_norm(tok.float(), tok.shape[-1:])               \n",
    "tok = tok.to(DEV, DTYPE).unsqueeze(0)                          \n",
    "\n",
    "with torch.no_grad():\n",
    "    vis = llava.multi_modal_projector(tok)                    \n",
    "vis = F.layer_norm(vis.float(), vis.shape[-1:]).to(DEV, DTYPE)  \n",
    "\n",
    "T = vis.size(1)\n",
    "prompt = (tok_img + \" \")*T + \"USER: Is there any anomaly in the image? Yes or No\\nASSISTANT:\"\n",
    "ids  = proc.tokenizer(prompt, return_tensors=\"pt\").to(DEV).input_ids\n",
    "txt  = llava.get_input_embeddings()(ids)                      \n",
    "att  = torch.ones(1, T, dtype=torch.long, device=DEV)\n",
    "\n",
    "inp  = torch.cat([vis, txt], 1)                                \n",
    "attm = torch.cat([att, ids.new_ones(ids.shape)], 1)\n",
    "\n",
    "with torch.no_grad():\n",
    "    out = llava(inputs_embeds=inp, attention_mask=attm, return_dict=True)\n",
    "\n",
    "logits = out.logits[0, -1].float()                            \n",
    "top10  = torch.topk(logits, 10)\n",
    "words  = [proc.tokenizer.decode([i]).strip().replace(\"\\n\",\" \") for i in top10.indices]\n",
    "probs  = F.softmax(top10.values, 0).tolist()\n",
    "\n",
    "print(\"Top-10 token probabilities\")\n",
    "for w, p in zip(words, probs):\n",
    "    print(f\"{w:<12}  {p:.3f}\")\n",
    "\n",
    "tid_yes = proc.tokenizer(\" Yes\", add_special_tokens=False).input_ids[0]\n",
    "tid_no  = proc.tokenizer(\" No\",  add_special_tokens=False).input_ids[0]\n",
    "p_yes, p_no = F.softmax(logits[[tid_yes, tid_no]], 0).tolist()\n",
    "print(f\"\\nP(Yes) = {p_yes:.3f}   P(No) = {p_no:.3f}\")\n",
    "\n",
    "with torch.no_grad():\n",
    "    gen = llava.generate(inputs_embeds=inp, attention_mask=attm,\n",
    "                         max_new_tokens=30, do_sample=False,\n",
    "                         eos_token_id=proc.tokenizer.eos_token_id,\n",
    "                         pad_token_id=proc.tokenizer.eos_token_id)\n",
    "answer = proc.tokenizer.decode(gen[0], skip_special_tokens=True).strip()\n",
    "print(\"\\n=== LLaVA Answer ===\")\n",
    "print(answer)"
   ]
  },
  {
   "cell_type": "markdown",
   "id": "b7965f13-10c5-4217-92d0-bdda8a614d96",
   "metadata": {
    "jp-MarkdownHeadingCollapsed": true
   },
   "source": [
    "# # 006.png"
   ]
  },
  {
   "cell_type": "code",
   "execution_count": 3,
   "id": "78c116f3-85c4-42b6-b7f3-6380f9cfb995",
   "metadata": {},
   "outputs": [],
   "source": [
    "import torch, torch.nn.functional as F\n",
    "from pathlib import Path\n",
    "from transformers import AutoProcessor, LlavaOnevisionForConditionalGeneration\n",
    "\n",
    "MASK_PT = Path(\"/home/s2behappy4/data/gyuhyeong/code/siglip_token_demo/hazelnut/hole/006_siglip_tokens.pt\")\n",
    "GLOB_PT = Path(\"/home/s2behappy4/data/gyuhyeong/code/siglip_token_demo/hazelnut/hole/good/006_global_token.pt\")\n",
    "MODEL   = \"llava-hf/llava-onevision-qwen2-7b-ov-hf\"\n",
    "\n",
    "DEV, DTYPE = (\"cuda\" if torch.cuda.is_available() else \"cpu\"), torch.bfloat16"
   ]
  },
  {
   "cell_type": "code",
   "execution_count": 4,
   "id": "ed73fb0d-b34b-4f2d-8e3a-0f0c2c65a55a",
   "metadata": {},
   "outputs": [
    {
     "name": "stdout",
     "output_type": "stream",
     "text": [
      "Top-10 token probabilities\n",
      "(             nan\n",
      "'             nan\n",
      "%             nan\n",
      "&             nan\n",
      "\"             nan\n",
      "!             nan\n",
      "#             nan\n",
      "$             nan\n",
      ")             nan\n",
      "*             nan\n",
      "\n",
      "P(Yes) = nan   P(No) = nan\n",
      "\n",
      "=== LLaVA Answer ===\n",
      "!!!!!!!!!!!!!!!!!!!!!!!!!!!!!!\n"
     ]
    }
   ],
   "source": [
    "d   = torch.load(MASK_PT, map_location=\"cpu\", weights_only=False)\n",
    "tok = d[\"mask_token\"]                                           \n",
    "if GLOB_PT.exists():\n",
    "    g = torch.load(GLOB_PT, map_location=\"cpu\", weights_only=False)[\"global_token\"]\n",
    "    tok = torch.cat([g.unsqueeze(0), tok], 0)                   \n",
    "\n",
    "tok = F.layer_norm(tok.float(), tok.shape[-1:])                 \n",
    "tok = tok.to(DEV, DTYPE).unsqueeze(0)                          \n",
    "\n",
    "with torch.no_grad():\n",
    "    vis = llava.multi_modal_projector(tok)                      \n",
    "vis = F.layer_norm(vis.float(), vis.shape[-1:]).to(DEV, DTYPE)  \n",
    "\n",
    "T = vis.size(1)\n",
    "prompt = (tok_img + \" \")*T + \"USER: Is there any anomaly in the image? Yes or No\\nASSISTANT:\"\n",
    "ids  = proc.tokenizer(prompt, return_tensors=\"pt\").to(DEV).input_ids\n",
    "txt  = llava.get_input_embeddings()(ids)                       \n",
    "att  = torch.ones(1, T, dtype=torch.long, device=DEV)\n",
    "\n",
    "inp  = torch.cat([vis, txt], 1)                                \n",
    "attm = torch.cat([att, ids.new_ones(ids.shape)], 1)\n",
    "\n",
    "with torch.no_grad():\n",
    "    out = llava(inputs_embeds=inp, attention_mask=attm, return_dict=True)\n",
    "\n",
    "logits = out.logits[0, -1].float()                            \n",
    "top10  = torch.topk(logits, 10)\n",
    "words  = [proc.tokenizer.decode([i]).strip().replace(\"\\n\",\" \") for i in top10.indices]\n",
    "probs  = F.softmax(top10.values, 0).tolist()\n",
    "\n",
    "print(\"Top-10 token probabilities\")\n",
    "for w, p in zip(words, probs):\n",
    "    print(f\"{w:<12}  {p:.3f}\")\n",
    "\n",
    "tid_yes = proc.tokenizer(\" Yes\", add_special_tokens=False).input_ids[0]\n",
    "tid_no  = proc.tokenizer(\" No\",  add_special_tokens=False).input_ids[0]\n",
    "p_yes, p_no = F.softmax(logits[[tid_yes, tid_no]], 0).tolist()\n",
    "print(f\"\\nP(Yes) = {p_yes:.3f}   P(No) = {p_no:.3f}\")\n",
    "\n",
    "with torch.no_grad():\n",
    "    gen = llava.generate(inputs_embeds=inp, attention_mask=attm,\n",
    "                         max_new_tokens=30, do_sample=False,\n",
    "                         eos_token_id=proc.tokenizer.eos_token_id,\n",
    "                         pad_token_id=proc.tokenizer.eos_token_id)\n",
    "answer = proc.tokenizer.decode(gen[0], skip_special_tokens=True).strip()\n",
    "print(\"\\n=== LLaVA Answer ===\")\n",
    "print(answer)"
   ]
  },
  {
   "cell_type": "markdown",
   "id": "cf00c6b1-b768-460f-9ad9-5ef5cb72220a",
   "metadata": {
    "jp-MarkdownHeadingCollapsed": true
   },
   "source": [
    "# # LLaVA Answer & Softmax"
   ]
  },
  {
   "cell_type": "code",
   "execution_count": 13,
   "id": "dfcd4092-517f-4491-8a52-42b76889261f",
   "metadata": {},
   "outputs": [],
   "source": [
    "import torch, torch.nn.functional as F\n",
    "from pathlib import Path\n",
    "from transformers import AutoProcessor, LlavaOnevisionForConditionalGeneration\n",
    "\n",
    "MASK = Path(\"/home/s2behappy4/data/gyuhyeong/code/siglip_token_demo/hazelnut/hole/003_siglip_tokens.pt\")\n",
    "GLOB = Path(\"/home/s2behappy4/data/gyuhyeong/code/siglip_token_demo/hazelnut/hole/good/003_global_token.pt\")\n",
    "MODEL= \"llava-hf/llava-onevision-qwen2-7b-ov-hf\"\n",
    "DEV, DTYPE = \"cuda\" if torch.cuda.is_available() else \"cpu\", torch.bfloat16"
   ]
  },
  {
   "cell_type": "code",
   "execution_count": 14,
   "id": "62e9441a-bc31-4e5e-a9b6-b954e07dd1d5",
   "metadata": {},
   "outputs": [
    {
     "name": "stdout",
     "output_type": "stream",
     "text": [
      "\n",
      "Top-10 logits\n",
      "Yes          0.458\n",
      "No           0.357\n",
      "I            0.066\n",
      "There        0.029\n",
      "<|im_end|>   0.026\n",
      "The          0.019\n",
      "             0.016\n",
      "It           0.011\n",
      "Can          0.011\n",
      "Is           0.007\n",
      "\n",
      "P(Yes)=0.562   P(No)=0.438\n",
      "\n",
      "=== LLaVA Answer ===\n",
      "Yes, there is an anomaly in the image. The person in the image is wearing a hat that is not typically worn in a professional setting.\n"
     ]
    }
   ],
   "source": [
    "d   = torch.load(MASK, map_location=\"cpu\", weights_only=False)\n",
    "tok = d[\"mask_token\"]\n",
    "if GLOB.exists():\n",
    "    g = torch.load(GLOB, map_location=\"cpu\", weights_only=False)[\"global_token\"]\n",
    "    tok = torch.cat([g.unsqueeze(0), tok], 0)\n",
    "\n",
    "tok = torch.nan_to_num(tok).float()                \n",
    "tok = F.layer_norm(tok, tok.shape[-1:])            \n",
    "tok = tok.to(DEV, DTYPE).unsqueeze(0)              \n",
    "\n",
    "with torch.no_grad():\n",
    "    vis = llava.multi_modal_projector(tok)      \n",
    "vis = F.layer_norm(vis.float(), vis.shape[-1:]).to(DEV, DTYPE)\n",
    "\n",
    "T = vis.size(1)\n",
    "prompt = (tok_img + \" \")*T + \"USER: Is there any anomaly in the image? Yes or No\\nASSISTANT:\"\n",
    "ids  = proc.tokenizer(prompt, return_tensors=\"pt\").to(DEV).input_ids\n",
    "txt  = llava.get_input_embeddings()(ids)            \n",
    "inp  = torch.cat([vis, txt], 1)\n",
    "attm = torch.cat([torch.ones(1,T,device=DEV), ids.new_ones(ids.shape)], 1)\n",
    "\n",
    "with torch.no_grad():\n",
    "    out = llava(inputs_embeds=inp, attention_mask=attm, return_dict=True)\n",
    "\n",
    "logits = out.logits[0,-1].float()                  \n",
    "top10  = torch.topk(logits, 10)\n",
    "words  = [proc.tokenizer.decode([i]).strip().replace(\"\\n\",\" \") for i in top10.indices]\n",
    "probs  = F.softmax(top10.values, 0).tolist()\n",
    "print(\"\\nTop-10 logits\")\n",
    "for w,p in zip(words, probs): print(f\"{w:<12} {p:.3f}\")\n",
    "\n",
    "tid_yes = proc.tokenizer(\" Yes\", add_special_tokens=False).input_ids[0]\n",
    "tid_no  = proc.tokenizer(\" No\",  add_special_tokens=False).input_ids[0]\n",
    "p_yes, p_no = F.softmax(logits[[tid_yes, tid_no]], 0).tolist()\n",
    "print(f\"\\nP(Yes)={p_yes:.3f}   P(No)={p_no:.3f}\")\n",
    "\n",
    "gen = llava.generate(inputs_embeds=inp, attention_mask=attm,\n",
    "                     max_new_tokens=30, do_sample=False,\n",
    "                     eos_token_id=proc.tokenizer.eos_token_id,\n",
    "                     pad_token_id=proc.tokenizer.eos_token_id)\n",
    "print(\"\\n=== LLaVA Answer ===\")\n",
    "print(proc.tokenizer.decode(gen[0], skip_special_tokens=True).strip())"
   ]
  },
  {
   "cell_type": "markdown",
   "id": "0b1018a4-49b4-4939-b65a-0f556647f113",
   "metadata": {
    "jp-MarkdownHeadingCollapsed": true
   },
   "source": [
    "# # LLaVA Answer"
   ]
  },
  {
   "cell_type": "code",
   "execution_count": 1,
   "id": "c5497f46-b26a-4733-927e-9dff795c0823",
   "metadata": {},
   "outputs": [],
   "source": [
    "import torch, torch.nn.functional as F, numpy as np\n",
    "from pathlib import Path\n",
    "from transformers import AutoProcessor, LlavaOnevisionForConditionalGeneration\n",
    "\n",
    "BASE   = Path(\"/home/s2behappy4/data/gyuhyeong/code/siglip_token_demo/hazelnut/hole\")\n",
    "MODEL  = \"llava-hf/llava-onevision-qwen2-7b-ov-hf\"\n",
    "DEV, DTYPE = \"cuda\" if torch.cuda.is_available() else \"cpu\", torch.bfloat16"
   ]
  },
  {
   "cell_type": "code",
   "execution_count": null,
   "id": "7fac34aa-a941-40fc-b9b4-46a9429dd0a7",
   "metadata": {},
   "outputs": [],
   "source": [
    "proc  = AutoProcessor.from_pretrained(MODEL, trust_remote_code=True)\n",
    "llava = LlavaOnevisionForConditionalGeneration.from_pretrained(\n",
    "          MODEL, device_map=\"auto\", torch_dtype=DTYPE,\n",
    "          low_cpu_mem_usage=True, trust_remote_code=True).eval()\n",
    "tok_img = proc.tokenizer.additional_special_tokens[0]\n",
    "tid_yes = proc.tokenizer(\" Yes\", add_special_tokens=False).input_ids[0]\n",
    "tid_no  = proc.tokenizer(\" No\",  add_special_tokens=False).input_ids[0]"
   ]
  },
  {
   "cell_type": "code",
   "execution_count": 3,
   "id": "7ca9dae0-43c8-4b73-8c73-68452a320959",
   "metadata": {},
   "outputs": [
    {
     "name": "stdout",
     "output_type": "stream",
     "text": [
      "[000]  P(Yes)=0.562  P(No)=0.438  →  Yes, there is an anomaly in the image.\n",
      "[001]  P(Yes)=0.516  P(No)=0.484  →  Yes, there is an anomaly in the image.\n",
      "[002]  P(Yes)=0.547  P(No)=0.453  →  Yes, there is an anomaly in the image.\n",
      "[003]  P(Yes)=0.562  P(No)=0.438  →  Yes, there is an anomaly in the image. The person in the image is wearing a hat that is not typically worn in a professional setting.\n",
      "[004]  P(Yes)=0.577  P(No)=0.423  →  Yes, there is an anomaly in the image. The anomaly is that the image is rotated 90 degrees clockwise.\n",
      "[005]  P(Yes)=0.622  P(No)=0.378  →  Yes, there is an anomaly in the image. The anomaly is that the image is rotated 90 degrees clockwise.\n",
      "[006]  P(Yes)=0.637  P(No)=0.363  →  Yes, there is an anomaly in the image. The image contains a text that reads \"I love you\" in a bold, red font.\n",
      "[007]  P(Yes)=0.562  P(No)=0.438  →  Yes, there is an anomaly in the image.\n",
      "[008]  P(Yes)=0.577  P(No)=0.423  →  Yes, there is an anomaly in the image. The person in the image is wearing a hat that is not typically worn in a professional setting.\n",
      "[009]  P(Yes)=0.577  P(No)=0.423  →  Yes, there is an anomaly in the image. The person in the image is wearing a hat that is not typically worn in a professional setting.\n",
      "[010]  P(Yes)=0.547  P(No)=0.453  →  Yes, there is an anomaly in the image.\n",
      "[011]  P(Yes)=0.547  P(No)=0.453  →  Yes, there is an anomaly in the image.\n",
      "[012]  P(Yes)=0.622  P(No)=0.378  →  Yes, there is an anomaly in the image. The image contains a text that reads \"I love you\" in a bold, red font.\n",
      "[013]  P(Yes)=0.665  P(No)=0.335  →  Yes, there is an anomaly in the image. The image contains a text that reads \"I love you\" in a bold, red font.\n",
      "[014]  P(Yes)=0.637  P(No)=0.363  →  Yes, there is an anomaly in the image. The image contains a text that reads \"I love you\" in a bold, red font.\n",
      "[015]  P(Yes)=0.622  P(No)=0.378  →  Yes, there is an anomaly in the image. The anomaly is that the image is rotated 90 degrees clockwise.\n",
      "[016]  P(Yes)=0.651  P(No)=0.349  →  Yes, there is an anomaly in the image. The image contains a text that reads \"I love you\" in a bold, red font.\n",
      "[017]  P(Yes)=0.693  P(No)=0.307  →  Yes, there is an anomaly in the image. The image contains a text that reads \"I love you\" in a cursive font.\n"
     ]
    }
   ],
   "source": [
    "def clean_norm(x):\n",
    "    x = torch.nan_to_num(x).float()            \n",
    "    return F.layer_norm(x, x.shape[-1:])       \n",
    "\n",
    "for i in range(18):\n",
    "    stem = f\"{i:03d}\"\n",
    "    f_mask = BASE / f\"{stem}_siglip_tokens.pt\"\n",
    "    f_glo  = BASE / \"good\" / f\"{stem}_global_token.pt\"\n",
    "    if not f_mask.exists():\n",
    "        print(f\"[{stem}]  ⨯ mask 파일 없음\"); continue\n",
    "\n",
    "    d   = torch.load(f_mask, map_location=\"cpu\", weights_only=False)\n",
    "    tok = d[\"mask_token\"]\n",
    "    if f_glo.exists():\n",
    "        g = torch.load(f_glo, map_location=\"cpu\", weights_only=False)[\"global_token\"]\n",
    "        tok = torch.cat([g.unsqueeze(0), tok], 0)\n",
    "\n",
    "    if tok.size(0) > 64:\n",
    "        areas = torch.tensor([m.sum() for m in d[\"mask\"]]); keep = torch.topk(areas, 63).indices\n",
    "        tok = torch.cat([tok[:1], tok[1:][keep]], 0)\n",
    "\n",
    "    tok = clean_norm(tok).to(DEV, DTYPE).unsqueeze(0)         \n",
    "\n",
    "    with torch.no_grad():\n",
    "        vis = llava.multi_modal_projector(tok)               \n",
    "    vis = clean_norm(vis).to(DEV, DTYPE)                       \n",
    "\n",
    "    T   = vis.size(1)\n",
    "    prompt = (tok_img + \" \")*T + \"USER: Is there any anomaly in the image? Yes or No\\nASSISTANT:\"\n",
    "    ids  = proc.tokenizer(prompt, return_tensors=\"pt\").to(DEV).input_ids\n",
    "    txt  = llava.get_input_embeddings()(ids)                   \n",
    "    inp  = torch.cat([vis, txt], 1)\n",
    "    att  = torch.cat([torch.ones(1,T,device=DEV), ids.new_ones(ids.shape)], 1)\n",
    "\n",
    "    with torch.no_grad():\n",
    "        out = llava(inputs_embeds=inp, attention_mask=att, return_dict=True)\n",
    "\n",
    "    logits = out.logits[0, -1].float()\n",
    "    p_yes, p_no = F.softmax(logits[[tid_yes, tid_no]], 0).tolist()\n",
    "\n",
    "    with torch.no_grad():\n",
    "        ans = proc.tokenizer.decode(\n",
    "                llava.generate(inputs_embeds=inp, attention_mask=att,\n",
    "                               max_new_tokens=30, do_sample=False,\n",
    "                               eos_token_id=proc.tokenizer.eos_token_id,\n",
    "                               pad_token_id=proc.tokenizer.eos_token_id)[0],\n",
    "                skip_special_tokens=True).strip()\n",
    "\n",
    "    print(f\"[{stem}]  P(Yes)={p_yes:.3f}  P(No)={p_no:.3f}  →  {ans}\")"
   ]
  }
 ],
 "metadata": {
  "kernelspec": {
   "display_name": "Python 3 (ipykernel)",
   "language": "python",
   "name": "python3"
  },
  "language_info": {
   "codemirror_mode": {
    "name": "ipython",
    "version": 3
   },
   "file_extension": ".py",
   "mimetype": "text/x-python",
   "name": "python",
   "nbconvert_exporter": "python",
   "pygments_lexer": "ipython3",
   "version": "3.12.7"
  }
 },
 "nbformat": 4,
 "nbformat_minor": 5
}
